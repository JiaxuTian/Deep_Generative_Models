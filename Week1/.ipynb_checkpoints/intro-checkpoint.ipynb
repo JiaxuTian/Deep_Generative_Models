{
 "cells": [
  {
   "cell_type": "markdown",
   "id": "93176899",
   "metadata": {},
   "source": [
    "# Introduction"
   ]
  },
  {
   "cell_type": "markdown",
   "id": "536344ca",
   "metadata": {},
   "source": [
    "## 1. Generative Era"
   ]
  },
  {
   "cell_type": "markdown",
   "id": "d246bcc6",
   "metadata": {},
   "source": [
    "(1) Chatbot and natural language conversation --ChatGPT<br>\n",
    "(2) Text-to-image generation --Stable Diffusion 3 Medium<br>\n",
    "(3) Text-to-video generation --Sora<br>\n",
    "(4) AI assistant for code generation<br>"
   ]
  },
  {
   "cell_type": "markdown",
   "id": "5affe7e5-18fc-4fc4-b792-ba814818b37e",
   "metadata": {},
   "source": [
    "What do four scenarios have in common?<br>\n",
    "(1) There are **multiple** or infinite predictions to one input.<br>\n",
    "(2) <mark>Some predictions are more **\"plausible\"** than some others.</mark><br>\n",
    "(3) Training data may contain **no exact solution**.<br>\n",
    "(4) Predictions may be more complex, more informative, and higher-dimensional than input.<br>"
   ]
  },
  {
   "cell_type": "markdown",
   "id": "881631e4",
   "metadata": {},
   "source": [
    "## 2. What are Generative Models? "
   ]
  },
  {
   "cell_type": "markdown",
   "id": "e50f0452-8abb-49aa-8e92-2b40a8b0572d",
   "metadata": {},
   "source": [
    "### 2.1 Discriminative vs. Generative models\n",
    "(1) discriminative: \"sample\" x --> \"label\" y (one desired output)<br>\n",
    "(2) generative: \"label\" y --> \"sample\" x (many possible outputs)<br>\n",
    "<img src=\"docx/diff.png\" width = \"300\" height = \"200\" alt=\"图片名称\" align=center />"
   ]
  },
  {
   "cell_type": "markdown",
   "id": "0e11ae6d",
   "metadata": {},
   "source": [
    "$p(y|x)$ is discriminative, $p(x|y)$ is generative.<br>\n",
    "Generative models can be discriminative: Bayes' rule: <br>$p(y|x)=p(x|y)\\frac{p(y)}{p(x)}$."
   ]
  },
  {
   "cell_type": "markdown",
   "id": "ee258068",
   "metadata": {},
   "source": [
    "Can discriminative models be generative?<br>\n",
    "Discriminative models can be generative: <br> $p(x|y)=p(y|x)\\frac{p(x)}{p(y)}$.<br>\n",
    "But the challenge is about **representing and predicting distributions $p(x)$**."
   ]
  },
  {
   "cell_type": "markdown",
   "id": "d6d75b46",
   "metadata": {},
   "source": [
    "### 2.2 Probabilistic modeling"
   ]
  },
  {
   "cell_type": "markdown",
   "id": "118d6f8e",
   "metadata": {},
   "source": [
    "Assuming data generation process exists a latent probabilistic distribution.\n",
    "- latent factors $z$(pose, lighting, scale, ...);\n",
    "- $z$ has simple distributions;\n",
    "- observations $x$ are rendered by a \"world model\" that's a function on $z$;\n",
    "- observations $x$ have complex distributions."
   ]
  },
  {
   "cell_type": "markdown",
   "id": "344da192-125b-4afe-a78c-2d0e65a6b42e",
   "metadata": {
    "tags": []
   },
   "source": [
    "Probability is part of the modeling.\n",
    "- There may not be \"underlying\" distributions;\n",
    "- Even there are, what we can observe are a **finite** set of data points;\n",
    "- The models **extrapolate** the observations for modeling distributions;\n",
    "- Overfitting vs. underfitting: like discriminative models.<br>\n",
    "<img src=\"docx/fit.png\" width = \"300\" height = \"200\" alt=\"图片名称\" align=center />"
   ]
  },
  {
   "cell_type": "markdown",
   "id": "42d7c4e7",
   "metadata": {},
   "source": [
    "### 2.3 Generative models w/ probabilistic modeling"
   ]
  },
  {
   "cell_type": "markdown",
   "id": "268594f8-934c-4e71-9d6e-c9a6d0c69836",
   "metadata": {
    "tags": []
   },
   "source": [
    "Higher probabilistic, more correct answer.<br>\n",
    "<img src=\"docx/dis1.png\" width = \"300\" height = \"200\" alt=\"图片名称\" align=center />\n",
    "<img src=\"docx/dis2.png\" width = \"300\" height = \"200\" alt=\"图片名称\" align=center /><br>"
   ]
  },
  {
   "cell_type": "markdown",
   "id": "22cd5903-7e19-49b0-9cc4-b7de65553530",
   "metadata": {},
   "source": [
    "Note:\n",
    "- Generative models involve statistical models which are often designed and derived by humans.\n",
    "- Probabilistic modeling is not just the work of neural nets.\n",
    "- Probabilistic modeling is a popular way, but not the only way.\n",
    "- \"All models are wrong, but some are useful.\" - George Box"
   ]
  },
  {
   "cell_type": "markdown",
   "id": "978ff51e-169f-4cde-9501-88b301d99ebf",
   "metadata": {},
   "source": [
    "## 3. What are <u>Deep</u> Generative Models?"
   ]
  },
  {
   "cell_type": "markdown",
   "id": "05d2241e-e8bd-48a3-ae26-f9e820a3bebe",
   "metadata": {},
   "source": [
    "Deep learning is **representation learning**.<br>\n",
    "- Learning to represent data instances:\n",
    "    - map data to feature: $x\\rightarrow f(x)$;\n",
    "    - minimize loss w/ target: $\\mathcal{L}(x, f(x))$.<br>\n",
    "\n",
    "- Learning to **represent probability distributions**:\n",
    "    - map a simple distribution (Gaussian/uniform) to a complex one: $\\pi\\rightarrow g(\\pi)$;\n",
    "    - minimize loss w/ data distribution: $\\mathcal{L}(p_x, g(\\pi))$"
   ]
  },
  {
   "cell_type": "code",
   "execution_count": null,
   "id": "4f0fffd4-7357-4f6a-841f-a8d80041e727",
   "metadata": {
    "tags": []
   },
   "outputs": [],
   "source": [
    "**Not all parts** of distribution modeling is done by learning:<br>\n",
    "e.g., Autoregressive model:<br>\n",
    "- This dependency graph is designed (not learned);\n",
    "- The mapping function is learned.<br>\n",
    "<img src=\"docx/transformer.png\" width = \"300\" height = \"200\" alt=\"图片名称\" align=center /><br>\n",
    "\n",
    "e.g., Diffusion model:<br>\n",
    "- This dependency graph is designed (not learned);\n",
    "- The mapping function is learned.<br>\n",
    "<img src=\"docx/diffusion.png\" width = \"300\" height = \"200\" alt=\"图片名称\" align=center />"
   ]
  },
  {
   "cell_type": "markdown",
   "id": "0e1e8c8e-ce1c-44dc-89a0-76130927b933",
   "metadata": {},
   "source": [
    "### 3.1 Deep Generative Models may involve"
   ]
  },
  {
   "cell_type": "markdown",
   "id": "d15f5881-45a0-449c-9d10-683a8b97c412",
   "metadata": {},
   "source": [
    "- Formulation:\n",
    "    - formulate a problem as probabilistic modeling;\n",
    "    - decompose complex distributions into simple and tractable ones.\n",
    "- Representation: deep neural networks to represent data and their distributions.\n",
    "- Objective function: to measure how good the predicted distribution is.\n",
    "- Optimization: optimize the networks and/or the decomposition.\n",
    "- Inference:\n",
    "    - sampler: to produce new samples;\n",
    "    - <mark>probability density estimator (optional)</mark>"
   ]
  },
  {
   "cell_type": "markdown",
   "id": "31b94911-9cb8-490d-ae2c-ca9ff71fab37",
   "metadata": {},
   "source": [
    "## 4. Formulating Real-world Problems as Generative Models"
   ]
  },
  {
   "cell_type": "markdown",
   "id": "6e547a55-ebd6-48cb-a9a7-dbbf426ec22d",
   "metadata": {},
   "source": [
    "Generative models are about $p(x|y)$.<br>\n",
    "<img src=\"docx/xandy.png\" width = \"300\" height = \"200\" alt=\"图片名称\" align=center /><br>"
   ]
  },
  {
   "cell_type": "markdown",
   "id": "a5953ff8-e493-432e-9bf3-3ad4d640e225",
   "metadata": {},
   "source": [
    "### 4.1 Case study: Formulating as $p(x|y)$"
   ]
  },
  {
   "cell_type": "markdown",
   "id": "dd286bca-f4c1-4460-aedb-b375d3c4b425",
   "metadata": {},
   "source": [
    "- Class-conditional image generation: {$y:$ class label(e.g., fox) $x$: generated image}.\n",
    "- \"Unconditional\" image generation: {$y$: an implicit condition(e.g., \"images following CIFAR10 distribution\") $x$: generated CIFAR10-like image}.\n",
    "     - $p(x|y)$: images ~ CIFAR10\n",
    "     - $p(x)$: all images"
   ]
  },
  {
   "cell_type": "markdown",
   "id": "a0e1f5d3-ed17-477e-8cc3-1c67f585a237",
   "metadata": {},
   "source": [
    "## 4.2 Formulating Real-world Problems as Generative Models"
   ]
  },
  {
   "cell_type": "markdown",
   "id": "8eaca5f6-f54f-452e-b39a-17cb5c390f05",
   "metadata": {},
   "source": [
    "- Generative models are about $p(x|y)$;\n",
    "- Many problems can be formulated as generative models;\n",
    "- What’s $x$? What’s $y$?\n",
    "- How to represent $x$, $y$, and their dependence?"
   ]
  },
  {
   "cell_type": "markdown",
   "id": "0fabd824-ebbf-4dcc-8e62-a2ca8b9a4dda",
   "metadata": {},
   "source": [
    "# Summary"
   ]
  },
  {
   "cell_type": "markdown",
   "id": "a57a350b-e996-4acf-9e02-49b66ac4a855",
   "metadata": {},
   "source": [
    "- How real-world problems are formulated as generative models?\n",
    "- Probabilistic foundations and learning algorithms;\n",
    "- Challenges, opportunities, open questions."
   ]
  }
 ],
 "metadata": {
  "kernelspec": {
   "display_name": "Python 3 (ipykernel)",
   "language": "python",
   "name": "python3"
  },
  "language_info": {
   "codemirror_mode": {
    "name": "ipython",
    "version": 3
   },
   "file_extension": ".py",
   "mimetype": "text/x-python",
   "name": "python",
   "nbconvert_exporter": "python",
   "pygments_lexer": "ipython3",
   "version": "3.8.10"
  }
 },
 "nbformat": 4,
 "nbformat_minor": 5
}
