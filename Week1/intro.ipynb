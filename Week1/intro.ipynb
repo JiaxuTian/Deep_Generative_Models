{
 "cells": [
  {
   "cell_type": "markdown",
   "id": "93176899",
   "metadata": {},
   "source": [
    "# Introduction"
   ]
  },
  {
   "cell_type": "markdown",
   "id": "536344ca",
   "metadata": {},
   "source": [
    "## 1. Generative Era"
   ]
  },
  {
   "cell_type": "markdown",
   "id": "d246bcc6",
   "metadata": {},
   "source": [
    "(1) Chatbot and natural language conversation --ChatGPT<br>\n",
    "(2) Text-to-image generation --Stable Diffusion 3 Medium<br>\n",
    "(3) Text-to-video generation --Sora<br>\n",
    "(4) AI assistant for code generation<br>"
   ]
  },
  {
   "cell_type": "markdown",
   "id": "12954421",
   "metadata": {},
   "source": [
    "What do four scenarios have in common?<br>\n",
    "(1) There are **multiple** or infinite predictions to one input.<br>\n",
    "(2) <mark>Some predictions are more **\"plausible\"** than some others.</mark><br>\n",
    "(3) Training data may contain **no exact solution**.<br>\n",
    "(4) Predictions may be more complex, more informative, and higher-dimensional than input.<br>"
   ]
  },
  {
   "cell_type": "markdown",
   "id": "881631e4",
   "metadata": {},
   "source": [
    "## 2. What are Generative Models? "
   ]
  },
  {
   "cell_type": "markdown",
   "id": "53c86b3e",
   "metadata": {},
   "source": [
    "### 2.1 Discriminative vs. Generative models\n",
    "(1) discriminative: \"sample\" x --> \"label\" y (one desired output)<br>\n",
    "(2) generative: \"label\" y --> \"sample\" x (many possible outputs)<br>"
   ]
  },
  {
   "cell_type": "markdown",
   "id": "dae4634c",
   "metadata": {},
   "source": [
    "![diff](docx/diff.png)"
   ]
  },
  {
   "cell_type": "markdown",
   "id": "0e11ae6d",
   "metadata": {},
   "source": [
    "$p(y|x)$ is discriminative, $p(x|y)$ is generative.<br>\n",
    "Generative models can be discriminative: Bayes' rule: <br>$p(y|x)=p(x|y)\\frac{p(y)}{p(x)}$."
   ]
  },
  {
   "cell_type": "markdown",
   "id": "ee258068",
   "metadata": {},
   "source": [
    "Can discriminative models be generative?<br>\n",
    "Discriminative models can be generative: <br> $p(x|y)=p(y|x)\\frac{p(x)}{p(y)}$.<br>\n",
    "But the challenge is about **representing and predicting distributions $p(x)$**."
   ]
  },
  {
   "cell_type": "markdown",
   "id": "d6d75b46",
   "metadata": {},
   "source": [
    "### 2.2 Probabilistic modeling"
   ]
  },
  {
   "cell_type": "markdown",
   "id": "118d6f8e",
   "metadata": {},
   "source": [
    "Assuming data generation process exists a latent probabilistic distribution.\n",
    "- latent factors $z$(pose, lighting, scale, ...);\n",
    "- $z$ has simple distributions;\n",
    "- observations $x$ are rendered by a \"world model\" that's a function on $z$;\n",
    "- observations $x$ have complex distributions."
   ]
  },
  {
   "cell_type": "markdown",
   "id": "7fb6d50d-61a5-4805-b719-47e64436cb6d",
   "metadata": {
    "tags": []
   },
   "source": [
    "Probability is part of the modeling.\n",
    "- There may not be \"underlying\" distributions;\n",
    "- Even there are, what we can observe are a **finite** set of data points;\n",
    "- The models **extrapolate** the observations for modeling distributions;\n",
    "- Overfitting vs. underfitting: like discriminative models.<br>\n",
    "![fit](docx/fit.png)"
   ]
  },
  {
   "cell_type": "markdown",
   "id": "42d7c4e7",
   "metadata": {},
   "source": [
    "### 2.3 Generative models w/ probabilistic modeling"
   ]
  },
  {
   "cell_type": "markdown",
   "id": "c4758e82-7bb7-4a6e-8e0b-fc94c5dfd8f5",
   "metadata": {},
   "source": [
    "Higher probabilistic, more correct answer.\n",
    "![fit](docx/dis1.png)\n",
    "![fit](docx/dis2.png)"
   ]
  },
  {
   "cell_type": "markdown",
   "id": "3dd38537-e8c2-4583-9ebb-9cab9522a022",
   "metadata": {},
   "source": [
    "Note:\n",
    "- Generative models involve statistical models which are often designed and derived by humans.\n",
    "- Probabilistic modeling is not just the work of neural nets.\n",
    "- Probabilistic modeling is a popular way, but not the only way.\n",
    "- \"All models are wrong, but some are useful.\" - George Box"
   ]
  },
  {
   "cell_type": "markdown",
   "id": "978ff51e-169f-4cde-9501-88b301d99ebf",
   "metadata": {},
   "source": [
    "## 3. What are <u>Deep</u> Generative Models?"
   ]
  },
  {
   "cell_type": "code",
   "execution_count": null,
   "id": "2b92744c-8a9f-454b-96a0-0752d20c40d4",
   "metadata": {},
   "outputs": [],
   "source": []
  }
 ],
 "metadata": {
  "kernelspec": {
   "display_name": "Python 3 (ipykernel)",
   "language": "python",
   "name": "python3"
  },
  "language_info": {
   "codemirror_mode": {
    "name": "ipython",
    "version": 3
   },
   "file_extension": ".py",
   "mimetype": "text/x-python",
   "name": "python",
   "nbconvert_exporter": "python",
   "pygments_lexer": "ipython3",
   "version": "3.8.10"
  }
 },
 "nbformat": 4,
 "nbformat_minor": 5
}
